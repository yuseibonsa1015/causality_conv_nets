{
 "cells": [
  {
   "cell_type": "code",
   "execution_count": 1,
   "metadata": {},
   "outputs": [
    {
     "name": "stdout",
     "output_type": "stream",
     "text": [
      "Train Set\n",
      "   patient_id  study_id  feature\n",
      "0           1         1       10\n",
      "1           1         2       20\n",
      "4           3         1       10\n",
      "5           3         2       20\n",
      "6           4         1       10\n",
      "7           4         2       20\n",
      "\n",
      "Test Set\n",
      "   patient_id  study_id  feature\n",
      "2           2         1       10\n",
      "3           2         2       20\n"
     ]
    }
   ],
   "source": [
    "import pandas as pd\n",
    "from sklearn.model_selection import GroupShuffleSplit\n",
    "\n",
    "# サンプルデータの作成\n",
    "data = {\n",
    "    'patient_id': [1, 1, 2, 2, 3, 3, 4, 4],\n",
    "    'study_id': [1, 2, 1, 2, 1, 2, 1, 2],\n",
    "    'feature': [10, 20, 10, 20, 10, 20, 10, 20]\n",
    "}\n",
    "\n",
    "df = pd.DataFrame(data)\n",
    "\n",
    "# GroupShuffleSplit の設定\n",
    "testset_size = 0.25\n",
    "seed = 42\n",
    "gs = GroupShuffleSplit(n_splits=2, test_size=testset_size, random_state=seed)\n",
    "\n",
    "# グループは patient_id 列に基づく\n",
    "study1 = df['study_id']\n",
    "patients1 = df['patient_id']\n",
    "\n",
    "\n",
    "# トレーニングとテストに分割\n",
    "trainval_idx, test_idx = next(gs.split(study1, groups=patients1))\n",
    "\n",
    "\n",
    "\n",
    "trainset = df.iloc[trainval_idx]\n",
    "testset = df.iloc[test_idx]\n",
    "\n",
    "print(\"Train Set\")\n",
    "print(trainset)\n",
    "print(\"\\nTest Set\")\n",
    "print(testset)\n"
   ]
  },
  {
   "cell_type": "code",
   "execution_count": 3,
   "metadata": {},
   "outputs": [
    {
     "name": "stdout",
     "output_type": "stream",
     "text": [
      "False\n"
     ]
    }
   ],
   "source": [
    "import torch\n",
    "print(torch.cuda.is_available())"
   ]
  }
 ],
 "metadata": {
  "kernelspec": {
   "display_name": "Python 3",
   "language": "python",
   "name": "python3"
  },
  "language_info": {
   "codemirror_mode": {
    "name": "ipython",
    "version": 3
   },
   "file_extension": ".py",
   "mimetype": "text/x-python",
   "name": "python",
   "nbconvert_exporter": "python",
   "pygments_lexer": "ipython3",
   "version": "3.11.6"
  }
 },
 "nbformat": 4,
 "nbformat_minor": 2
}
